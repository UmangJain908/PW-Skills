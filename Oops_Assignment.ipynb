{
  "nbformat": 4,
  "nbformat_minor": 0,
  "metadata": {
    "colab": {
      "provenance": []
    },
    "kernelspec": {
      "name": "python3",
      "display_name": "Python 3"
    },
    "language_info": {
      "name": "python"
    }
  },
  "cells": [
    {
      "cell_type": "markdown",
      "source": [
        "# Theory Questions"
      ],
      "metadata": {
        "id": "jEDFBJhdXLTR"
      }
    },
    {
      "cell_type": "markdown",
      "source": [
        "1. What is Object-Oriented Programming (OOP)?\n",
        "   - Object-Oriented Programming is a way of writing programs using classes and\n",
        "     objects.\n",
        "   - It focuses on reusability, modularity, and organization of code by\n",
        "     grouping data and behavior together.\n",
        "\n",
        "2. What is a class in OOP?\n",
        "   - A class is a blueprint or template for creating objects.\n",
        "   - It defines the attributes (variables) and methods (functions) that the\n",
        "     objects will have.\n",
        "\n",
        "3. What is an object in OOP?\n",
        "   - An object is an instance of a class.\n",
        "   - It represents a real-world entity and holds data (attributes) and  \n",
        "     behavior (methods) defined by its class.\n",
        "\n",
        "4. What is the difference between abstraction and encapsulation?\n",
        "   - Abstraction -> Hiding complex details and showing only necessary features.\n",
        "   - Encapsulation -> Wrapping data and methods together in a class and  \n",
        "     protecting them from direct access.\n",
        "\n",
        "5. What are dunder methods in Python?\n",
        "   - Dunder (double underscore) methods are special methods in Python that start\n",
        "     and end with __.\n",
        "   - Example: __init__, __str__, __len__, etc\n",
        "\n",
        "6. Explain the concept of inheritance in OOP?\n",
        "   - Inheritance allows a class to inherit attributes and methods from another\n",
        "     class. It helps in code reusability.\n",
        "   - Ex =>\n",
        "      ```\n",
        "      class Parent:\n",
        "          pass\n",
        "\n",
        "      class Child(Parent):\n",
        "          pass\n",
        "      ```\n",
        "\n",
        "7. What is polymorphism in OOP?\n",
        "   - Polymorphism means one interface, many forms.\n",
        "   - It allows methods with the same name to behave differently depending on the\n",
        "     object calling them.\n",
        "\n",
        "8. How is encapsulation achieved in Python?\n",
        "   - Encapsulation is achieved by making variables private or protected using\n",
        "     underscores:\n",
        "   - _var => Protected\n",
        "   - __var => Private\n",
        "   - This hides the data from direct modification outside the class.\n",
        "\n",
        "9. What is a constructor in Python?\n",
        "   - A constructor is a special method called __init__() that runs\n",
        "     automatically when an object is created.\n",
        "   - It is used to initialize object variables.\n",
        "\n",
        "10. What are class and static methods in Python?\n",
        "\n",
        "    - Class method: Uses @classmethod and has access to the class (not\n",
        "      instance).\n",
        "\n",
        "    - Static method: Uses @staticmethod and doesn’t depend on class or instance.\n",
        "    - Example:\n",
        "      ```\n",
        "      @classmethod\n",
        "      def cls_method(cls): ...\n",
        "\n",
        "      @staticmethod\n",
        "      def static_method(): ...\n",
        "      ```\n",
        "\n",
        "11. What is method overloading in Python?\n",
        "    - Method overloading allows multiple methods in the same class to have the\n",
        "      same name but differ in the number or type of parameters\n",
        "    - Python doesn’t support true method overloading like Java or C++.\n",
        "    - However, it can be achieved by using default arguments or *args and\n",
        "      **kwargs.\n",
        "\n",
        "12. What is method overriding in OOP?\n",
        "    - Overriding happens when a child class defines a method with the same name\n",
        "      as the parent class method, replacing its behavior.\n",
        "\n",
        "13.  What is a property decorator in Python?\n",
        "     - The @property decorator is used to define getters and setters for class\n",
        "       attributes — allowing controlled access to private variables.\n",
        "\n",
        "14.  Why is polymorphism important in OOP?\n",
        "     - Because it makes code flexible and extendable — you can call the same\n",
        "       method name on different objects, and each will behave according to its own implementation.\n",
        "\n",
        "15.  What is an abstract class in Python?\n",
        "     - An abstract class is a class that cannot be instantiated directly.\n",
        "       It is defined using the abc module and may have abstract methods that must be implemented in child classes.\n",
        "\n",
        "16.  What are the advantages of OOP?\n",
        "     - Code reusability\n",
        "     - Data security (encapsulation)\n",
        "     - Easier maintenance\n",
        "     - Real-world modeling\n",
        "     - Extensibility via inheritance and polymorphism\n",
        "\n",
        "17.  What is the difference between a class variable and an instance variable?\n",
        "     - Class variable: Shared by all objects of the class.\n",
        "     - Instance variable: Unique for each object.\n",
        "\n",
        "18.  What is multiple inheritance in Python?\n",
        "     - It means a class can inherit from more than one parent class.\n",
        "     - Ex=>\n",
        "       ```\n",
        "       class Child(Parent1, Parent2):\n",
        "           pass\n",
        "       ```\n",
        "\n",
        "19.  Explain the purpose of __str__ and __repr__ methods?\n",
        "     - __str__ => Used for user-friendly string output (for print).\n",
        "     - __repr__ => Used for developer/debugging representation of the object.\n",
        "\n",
        "20.  What is the significance of super() function in Python\n",
        "     - super() is used to call a method from the parent class inside the child\n",
        "       class.\n",
        "     - Mostly used in constructors (__init__) to reuse parent initialization.\n",
        "\n",
        "21.  What is the significance of the __del__ method?\n",
        "     - __del__ is the destructor method.\n",
        "     - It is called when an object is about to be deleted or garbage collected,\n",
        "      used for cleanup.\n",
        "\n",
        "22.  What is the difference between @staticmethod and @classmethod in Python?\n",
        "     - @staticmethod:\n",
        "        - Does not take self or cls as an argument.\n",
        "        - Cannot access class or instance data.\n",
        "        - Belongs to the class but works like a regular utility function.\n",
        "        - Example use: helper or utility methods that don’t need class or\n",
        "          instance info.\n",
        "\n",
        "     - @classmethod:\n",
        "       - Takes cls as the first argument.\n",
        "       - Can access or modify class variables.\n",
        "       - Belongs to the class.\n",
        "       - Example use: factory methods that return class objects with specific\n",
        "         initializations.\n",
        "\n",
        "23. How does polymorphism work in Python with inheritance?\n",
        "    - When both parent and child classes have the same method name, the method\n",
        "      in the child class overrides the parent’s one.\n",
        "    - When called through the child object, Python automatically decides which\n",
        "      one to run.\n",
        "\n",
        "24. What is method chaining in Python OOP?\n",
        "    - Method chaining means calling multiple methods on the same object in a\n",
        "      single line.\n",
        "    - It’s done by returning self at the end of each method.\n",
        "      ```\n",
        "      obj.method1().method2().method3()\n",
        "      ```\n",
        "\n",
        "25. What is the purpose of the __call__ method in Python?\n",
        "    - The __call__ method allows an object to be called like a function.\n",
        "      ```\n",
        "      class Test:\n",
        "          def __call__(self):\n",
        "              print(\"Object called!\")\n",
        "      obj = Test()\n",
        "      obj()  # calls __call__\n",
        "      ```\n"
      ],
      "metadata": {
        "id": "7VXvFChBXN2W"
      }
    },
    {
      "cell_type": "markdown",
      "source": [
        "# Practical Questions"
      ],
      "metadata": {
        "id": "X8Qwp4GPrRzJ"
      }
    },
    {
      "cell_type": "code",
      "execution_count": null,
      "metadata": {
        "id": "OiHIOYNsXDNU",
        "colab": {
          "base_uri": "https://localhost:8080/"
        },
        "outputId": "1acad9b2-a562-466d-a5a6-6d3ab27f71a3"
      },
      "outputs": [
        {
          "output_type": "stream",
          "name": "stdout",
          "text": [
            "Bark!\n"
          ]
        }
      ],
      "source": [
        "#1 Create a parent class Animal with a method speak() that prints a generic message. Create a child class Dog that overrides the speak() method to print \"Bark!\".\n",
        "\n",
        "class Animal:\n",
        "    def speak(self):\n",
        "        print(\"Generic animal sound\")\n",
        "\n",
        "class Dog(Animal):\n",
        "    def speak(self):\n",
        "        print(\"Bark!\")\n",
        "\n",
        "dog = Dog()\n",
        "dog.speak()"
      ]
    },
    {
      "cell_type": "code",
      "source": [
        "#2 Write a program to create an abstract class Shape with a method area(). Derive classes Circle and Rectangle from it and implement the area() method in both.\n",
        "\n",
        "from abc import ABC, abstractmethod\n",
        "import math\n",
        "\n",
        "class Shape(ABC):\n",
        "    @abstractmethod\n",
        "    def area(self):\n",
        "        pass\n",
        "\n",
        "class Circle(Shape):\n",
        "    def __init__(self, radius):\n",
        "        self.radius = radius\n",
        "\n",
        "    def area(self):\n",
        "        return math.pi * self.radius ** 2\n",
        "\n",
        "class Rectangle(Shape):\n",
        "    def __init__(self, length, width):\n",
        "        self.length = length\n",
        "        self.width = width\n",
        "\n",
        "    def area(self):\n",
        "        return self.length * self.width\n",
        "\n",
        "circle = Circle(5)\n",
        "rectangle = Rectangle(4, 6)\n",
        "\n",
        "print(\"Circle Area:\", circle.area())\n",
        "print(\"Rectangle Area:\", rectangle.area())\n"
      ],
      "metadata": {
        "colab": {
          "base_uri": "https://localhost:8080/"
        },
        "id": "fitPm-gHrgRV",
        "outputId": "bc3b4a4b-fb97-4016-c4a1-c3344df9d3a9"
      },
      "execution_count": null,
      "outputs": [
        {
          "output_type": "stream",
          "name": "stdout",
          "text": [
            "Circle Area: 78.53981633974483\n",
            "Rectangle Area: 24\n"
          ]
        }
      ]
    },
    {
      "cell_type": "code",
      "source": [
        "#3 Implement a multi-level inheritance scenario where a class Vehicle has an attribute type. Derive a class Car and further derive a class ElectricCar that adds a battery attribute.\n",
        "\n",
        "class Vehicle:\n",
        "    def __init__(self, type):\n",
        "        self.type = type\n",
        "\n",
        "class Car(Vehicle):\n",
        "    pass\n",
        "\n",
        "class ElectricCar(Car):\n",
        "    def __init__(self, type, battery):\n",
        "        super().__init__(type)\n",
        "        self.battery = battery\n",
        "\n",
        "electric_car = ElectricCar(\"Electric\", \"100kWh\")\n",
        "print(electric_car.type)\n",
        "print(electric_car.battery)"
      ],
      "metadata": {
        "colab": {
          "base_uri": "https://localhost:8080/"
        },
        "id": "XtneYr3ar7AC",
        "outputId": "73e42226-60d1-4f4e-820e-ffb60257521d"
      },
      "execution_count": null,
      "outputs": [
        {
          "output_type": "stream",
          "name": "stdout",
          "text": [
            "Electric\n",
            "100kWh\n"
          ]
        }
      ]
    },
    {
      "cell_type": "code",
      "source": [
        "#4 Demonstrate polymorphism by creating a base class Bird with a method fly(). Create two derived classes Sparrow and Penguin that override the fly() method.\n",
        "\n",
        "class Bird:\n",
        "    def fly(self):\n",
        "        print(\"Bird flying\")\n",
        "\n",
        "class Sparrow(Bird):\n",
        "    def fly(self):\n",
        "        print(\"Sparrow flying\")\n",
        "\n",
        "class Penguin(Bird):\n",
        "    def fly(self):\n",
        "        print(\"Penguin cannot fly\")\n",
        "\n",
        "sparrow = Sparrow()\n",
        "sparrow.fly()\n",
        "\n",
        "penguin = Penguin()\n",
        "penguin.fly()\n"
      ],
      "metadata": {
        "colab": {
          "base_uri": "https://localhost:8080/"
        },
        "id": "jK40D-zhsQul",
        "outputId": "2f3e8ada-b7f2-4083-9c5c-b2d9bd2257c4"
      },
      "execution_count": null,
      "outputs": [
        {
          "output_type": "stream",
          "name": "stdout",
          "text": [
            "Sparrow flying\n",
            "Penguin cannot fly\n"
          ]
        }
      ]
    },
    {
      "cell_type": "code",
      "source": [
        "#5 Write a program to demonstrate encapsulation by creating a class BankAccount with private attributes balance and methods to deposit, withdraw, and check balance.\n",
        "\n",
        "class BankAccount:\n",
        "    def __init__(self, balance):\n",
        "        self.__balance = balance\n",
        "\n",
        "    def deposit(self, amount):\n",
        "        self.__balance += amount\n",
        "\n",
        "    def withdraw(self, amount):\n",
        "        if amount <= self.__balance:\n",
        "            self.__balance -= amount\n",
        "        else:\n",
        "            print(\"Insufficient balance\")\n",
        "\n",
        "obj1 = BankAccount(1000)\n",
        "obj1.deposit(500)\n",
        "obj1.withdraw(200)\n",
        "print(obj1._BankAccount__balance)"
      ],
      "metadata": {
        "colab": {
          "base_uri": "https://localhost:8080/"
        },
        "id": "xXniMnK4sg3u",
        "outputId": "cbdadb4e-ced8-4c50-ed1f-aa6bb61ae2c4"
      },
      "execution_count": null,
      "outputs": [
        {
          "output_type": "stream",
          "name": "stdout",
          "text": [
            "1300\n"
          ]
        }
      ]
    },
    {
      "cell_type": "code",
      "source": [
        "#6 Demonstrate runtime polymorphism using a method play() in a base class Instrument. Derive classes Guitar and Piano that implement their own version of play().\n",
        "\n",
        "class Instrument:\n",
        "    def play(self):\n",
        "        print(\"Generic instrument playing\")\n",
        "\n",
        "class Guitar(Instrument):\n",
        "    def play(self):\n",
        "        print(\"Guitar playing\")\n",
        "\n",
        "class Piano(Instrument):\n",
        "    def play(self):\n",
        "        print(\"Piano playing\")\n",
        "\n",
        "guitar = Guitar()\n",
        "guitar.play()\n",
        "\n",
        "piano = Piano()\n",
        "piano.play()"
      ],
      "metadata": {
        "colab": {
          "base_uri": "https://localhost:8080/"
        },
        "id": "i-mWQSUWtY2s",
        "outputId": "25a9197e-f015-4ccf-ac2e-ccc6ec915519"
      },
      "execution_count": null,
      "outputs": [
        {
          "output_type": "stream",
          "name": "stdout",
          "text": [
            "Guitar playing\n",
            "Piano playing\n"
          ]
        }
      ]
    },
    {
      "cell_type": "code",
      "source": [
        "#7 Create a class MathOperations with a class method add_numbers() to add two numbers and a static method subtract_numbers() to subtract two numbers.\n",
        "\n",
        "class MathOperations:\n",
        "    @classmethod\n",
        "    def add_numbers(cls, a, b):\n",
        "        return a + b\n",
        "\n",
        "    @staticmethod\n",
        "    def subtract_numbers(a, b):\n",
        "        return a - b\n",
        "\n",
        "obj1 = MathOperations()\n",
        "print(obj1.add_numbers(5, 3))\n",
        "print(obj1.subtract_numbers(5, 3))"
      ],
      "metadata": {
        "colab": {
          "base_uri": "https://localhost:8080/"
        },
        "id": "1LkcjbqKtrkj",
        "outputId": "5a359632-b833-4116-af34-04f8b534cc22"
      },
      "execution_count": null,
      "outputs": [
        {
          "output_type": "stream",
          "name": "stdout",
          "text": [
            "8\n",
            "2\n"
          ]
        }
      ]
    },
    {
      "cell_type": "code",
      "source": [
        "#8 Implement a class Person with a class method to count the total number of persons created.\n",
        "\n",
        "class Person:\n",
        "    count = 0\n",
        "\n",
        "    def __init__(self):\n",
        "        Person.count += 1\n",
        "\n",
        "obj1 = Person()\n",
        "obj2 = Person()\n",
        "print(Person.count)\n"
      ],
      "metadata": {
        "colab": {
          "base_uri": "https://localhost:8080/"
        },
        "id": "RKDH8vnSuGuA",
        "outputId": "c0d4ac71-dfbb-43e0-cd52-dd1e894a4484"
      },
      "execution_count": null,
      "outputs": [
        {
          "output_type": "stream",
          "name": "stdout",
          "text": [
            "2\n"
          ]
        }
      ]
    },
    {
      "cell_type": "code",
      "source": [
        "#9 Write a class Fraction with attributes numerator and denominator. Override the str method to display the fraction as \"numerator/denominator\".\n",
        "\n",
        "class Fraction:\n",
        "    def __init__(self, numerator, denominator):\n",
        "        self.numerator = numerator\n",
        "        self.denominator = denominator\n",
        "\n",
        "    def __str__(self):\n",
        "        return f\"{self.numerator}/{self.denominator}\"\n",
        "\n",
        "obj1 = Fraction(5, 3)\n",
        "print(obj1)"
      ],
      "metadata": {
        "colab": {
          "base_uri": "https://localhost:8080/"
        },
        "id": "TpE627douSaV",
        "outputId": "0c5e4577-31d8-45b5-d826-9806d51b269d"
      },
      "execution_count": null,
      "outputs": [
        {
          "output_type": "stream",
          "name": "stdout",
          "text": [
            "5/3\n"
          ]
        }
      ]
    },
    {
      "cell_type": "code",
      "source": [
        "#10 Demonstrate operator overloading by creating a class Vector and overriding the add method to add two vectors.\n",
        "\n",
        "class Vector:\n",
        "    def __init__(self, x, y):\n",
        "        self.x = x\n",
        "        self.y = y\n",
        "\n",
        "    def __add__(self, other):\n",
        "        return Vector(self.x + other.x, self.y + other.y)\n",
        "\n",
        "obj1 = Vector(1, 2)\n",
        "obj2 = Vector(3, 4)\n",
        "obj3 = obj1 + obj2\n",
        "print(obj3.x, obj3.y)"
      ],
      "metadata": {
        "colab": {
          "base_uri": "https://localhost:8080/"
        },
        "id": "I5lj9I_uur0r",
        "outputId": "1c34c7e0-1778-46c9-8552-5b6567aee7ad"
      },
      "execution_count": null,
      "outputs": [
        {
          "output_type": "stream",
          "name": "stdout",
          "text": [
            "4 6\n"
          ]
        }
      ]
    },
    {
      "cell_type": "code",
      "source": [
        "#11 Create a class Person with attributes name and age. Add a method greet() that prints \"Hello, my name is {name} and I am {age} years old.\"\n",
        "\n",
        "class Person:\n",
        "    def __init__(self, name, age):\n",
        "        self.name = name\n",
        "        self.age = age\n",
        "\n",
        "    def greet(self):\n",
        "        print(f\"Hello, my name is {self.name} and I am {self.age} years old.\")\n",
        "\n",
        "obj1 = Person(\"Umang\", 28)\n",
        "obj1.greet()"
      ],
      "metadata": {
        "colab": {
          "base_uri": "https://localhost:8080/"
        },
        "id": "lgYNbFgOvAbD",
        "outputId": "4164636d-549c-4979-8b5b-0732890372d2"
      },
      "execution_count": null,
      "outputs": [
        {
          "output_type": "stream",
          "name": "stdout",
          "text": [
            "Hello, my name is Umang and I am 28 years old.\n"
          ]
        }
      ]
    },
    {
      "cell_type": "code",
      "source": [
        "#12 Implement a class Student with attributes name and grades. Create a method average_grade() to compute the average of the grades.\n",
        "\n",
        "class Student:\n",
        "  def __init__(self, name, grades):\n",
        "    self.name = name\n",
        "    self.grades = grades\n",
        "\n",
        "  def average_grade(self):\n",
        "    return sum(self.grades) / len(self.grades)\n",
        "\n",
        "obj1  = Student(\"Umang\", [90, 80, 70])\n",
        "print(obj1.average_grade())"
      ],
      "metadata": {
        "colab": {
          "base_uri": "https://localhost:8080/"
        },
        "id": "Ei-kRhmhvmcE",
        "outputId": "b8c4dc7f-d806-42d5-c385-8f7205b432bb"
      },
      "execution_count": null,
      "outputs": [
        {
          "output_type": "stream",
          "name": "stdout",
          "text": [
            "80.0\n"
          ]
        }
      ]
    },
    {
      "cell_type": "code",
      "source": [
        "#13  Create a class Rectangle with methods set_dimensions() to set the dimensions and area() to calculate the area.\n",
        "\n",
        "class Rectangle:\n",
        "  def set_dimensions(self, length, width):\n",
        "    self.length = length\n",
        "    self.width = width\n",
        "\n",
        "  def area(self):\n",
        "    return self.length * self.width\n",
        "\n",
        "obj1 = Rectangle()\n",
        "obj1.set_dimensions(5, 3)\n",
        "print(obj1.area())"
      ],
      "metadata": {
        "colab": {
          "base_uri": "https://localhost:8080/"
        },
        "id": "otKX072Hvx29",
        "outputId": "7c5ccb52-9d3e-45da-a425-ba33175e85ed"
      },
      "execution_count": null,
      "outputs": [
        {
          "output_type": "stream",
          "name": "stdout",
          "text": [
            "15\n"
          ]
        }
      ]
    },
    {
      "cell_type": "code",
      "source": [
        "#14  Create a class Employee with a method calculate_salary() that computes the salary based on hours worked and hourly rate. Create a derived class Manager that adds a bonus to the salary.\n",
        "\n",
        "class Employee:\n",
        "  def calculate_salary(self, hours_worked, hourly_rate):\n",
        "    return hours_worked * hourly_rate\n",
        "\n",
        "class Manager(Employee):\n",
        "  def calculate_salary(self, hours_worked, hourly_rate, bonus):\n",
        "    return super().calculate_salary(hours_worked, hourly_rate) + bonus\n",
        "\n",
        "obj1 = Manager()\n",
        "print(obj1.calculate_salary(40, 50, 1000))\n"
      ],
      "metadata": {
        "colab": {
          "base_uri": "https://localhost:8080/"
        },
        "id": "XddbIHwywHGi",
        "outputId": "61550c7f-455a-4165-83dc-2cd7c655cc7d"
      },
      "execution_count": null,
      "outputs": [
        {
          "output_type": "stream",
          "name": "stdout",
          "text": [
            "3000\n"
          ]
        }
      ]
    },
    {
      "cell_type": "code",
      "source": [
        "#15 Create a class Product with attributes name, price, and quantity. Implement a method total_price() that calculates the total price of the product.\n",
        "\n",
        "class Product:\n",
        "  def __init__(self, name, price, quantity):\n",
        "    self.name = name\n",
        "    self.price = price\n",
        "    self.quantity = quantity\n",
        "\n",
        "  def total_price(self):\n",
        "    return self.price * self.quantity\n",
        "\n",
        "obj1 = Product(\"Pens\", 10, 5)\n",
        "print(f'Price of {obj1.quantity} {obj1.name} is {obj1.total_price()}')"
      ],
      "metadata": {
        "colab": {
          "base_uri": "https://localhost:8080/"
        },
        "id": "jw40DPQPxByP",
        "outputId": "ebbd64ff-f711-4f0e-c7c3-f05a828731f9"
      },
      "execution_count": null,
      "outputs": [
        {
          "output_type": "stream",
          "name": "stdout",
          "text": [
            "Price of 5 Pens is 50\n"
          ]
        }
      ]
    },
    {
      "cell_type": "code",
      "source": [
        "#16 Create a class Animal with an abstract method sound(). Create two derived classes Cow and Sheep that implement the sound() method?\n",
        "\n",
        "from abc import ABC, abstractmethod\n",
        "\n",
        "class Animal(ABC):\n",
        "    @abstractmethod\n",
        "    def sound(self):\n",
        "        pass\n",
        "\n",
        "class Cow(Animal):\n",
        "    def sound(self):\n",
        "        return \"Moo\"\n",
        "\n",
        "class Sheep(Animal):\n",
        "    def sound(self):\n",
        "        return \"Baa\"\n",
        "\n",
        "cow = Cow()\n",
        "sheep = Sheep()\n",
        "\n",
        "print(cow.sound())\n",
        "print(sheep.sound())\n"
      ],
      "metadata": {
        "colab": {
          "base_uri": "https://localhost:8080/"
        },
        "id": "fpN7-PlnxM-t",
        "outputId": "f111829f-377c-4b93-d5fc-ee328cf2b37b"
      },
      "execution_count": null,
      "outputs": [
        {
          "output_type": "stream",
          "name": "stdout",
          "text": [
            "Moo\n",
            "Baa\n"
          ]
        }
      ]
    },
    {
      "cell_type": "code",
      "source": [
        "#17 Create a class Book with attributes title, author, and year_published. Add a method get_book_info() that returns a formatted string with the book's details.\n",
        "\n",
        "class Book:\n",
        "  def __init__(self, title, author, year_published):\n",
        "    self.title = title\n",
        "    self.author = author\n",
        "    self.year_published = year_published\n",
        "\n",
        "  def get_book_info(self):\n",
        "    return f\"{self.title} by {self.author} ({self.year_published})\"\n",
        "\n",
        "obj1 = Book(\"The adventures of Huckleberry Finn\", \"Mark Twain\", 1884)\n",
        "print(obj1.get_book_info())"
      ],
      "metadata": {
        "colab": {
          "base_uri": "https://localhost:8080/"
        },
        "id": "ZP0jv-DMyDxT",
        "outputId": "6509c7b1-c84a-4d6f-8eb6-daae5ddb66a8"
      },
      "execution_count": null,
      "outputs": [
        {
          "output_type": "stream",
          "name": "stdout",
          "text": [
            "The adventures of Huckleberry Finn by Mark Twain (1884)\n"
          ]
        }
      ]
    },
    {
      "cell_type": "code",
      "source": [
        "#18 Create a class House with attributes address and price. Create a derived class Mansion that adds an attribute number_of_rooms?\n",
        "\n",
        "class House:\n",
        "    def __init__(self, address, price):\n",
        "        self.address = address\n",
        "        self.price = price\n",
        "\n",
        "class Mansion(House):\n",
        "    def __init__(self, address, price, number_of_rooms):\n",
        "        super().__init__(address, price)\n",
        "        self.number_of_rooms = number_of_rooms\n",
        "\n",
        "obj = Mansion(\"123 Main Street\", 200000, 8)\n",
        "\n",
        "print(\"Address:\", obj.address)\n",
        "print(\"Price:\", obj.price)\n",
        "print(\"Number of Rooms:\", obj.number_of_rooms)\n"
      ],
      "metadata": {
        "colab": {
          "base_uri": "https://localhost:8080/"
        },
        "id": "-Hm-ktPtzO5b",
        "outputId": "84c0d57f-4647-437d-91a7-f729b463ad39"
      },
      "execution_count": null,
      "outputs": [
        {
          "output_type": "stream",
          "name": "stdout",
          "text": [
            "Address: 123 Main Street\n",
            "Price: 200000\n",
            "Number of Rooms: 8\n"
          ]
        }
      ]
    },
    {
      "cell_type": "code",
      "source": [],
      "metadata": {
        "id": "Cg_spniNzy74"
      },
      "execution_count": null,
      "outputs": []
    }
  ]
}