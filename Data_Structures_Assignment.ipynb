{
  "nbformat": 4,
  "nbformat_minor": 0,
  "metadata": {
    "colab": {
      "provenance": []
    },
    "kernelspec": {
      "name": "python3",
      "display_name": "Python 3"
    },
    "language_info": {
      "name": "python"
    }
  },
  "cells": [
    {
      "cell_type": "markdown",
      "source": [
        "# Data Types and Structures Questions"
      ],
      "metadata": {
        "id": "sgnFOG-WQNAz"
      }
    },
    {
      "cell_type": "markdown",
      "source": [
        "1. What are data structures, and why are they important?\n",
        "   - Data structures are ways to organize and store data. They’re important because they make it easier and faster to work with data.\n",
        "\n",
        "2. Explain the difference between mutable and immutable data types with examples?\n",
        "   - Mutable => can be changed/modified after creation.\n",
        "     - Example: list = [1,2,3] → I can change list[0] = 10.\n",
        "\n",
        "   - Immutable => cannot be changed/modified after creation.\n",
        "     - Example: string = \"hello\" → I cannot change string[0] = \"H\".\n",
        "\n",
        "3. What are the main differences between lists and tuples in Python?\n",
        "   - Lists: mutable (can be changed), written with [].\n",
        "   - Tuples: immutable (cannot be changed), written with ().\n",
        "\n",
        "4. Describe how dictionaries store data?\n",
        "   - Dictionaries store data in key: value pairs.\n",
        "     - Example: {\"name\": \"Umang\", \"age\": 25}.\n",
        "   - Keys are unique and are used to quickly find values.\n",
        "\n",
        "5. Why might you use a set instead of a list in Python?\n",
        "   - Sets automatically remove duplicates and are faster for checking if an item exists.\n",
        "\n",
        "6. What is a string in Python, and how is it different from a list?\n",
        "   - A string is a sequence of characters enclosed with sinlge/double quotes.\n",
        "     - Ex = 'Hello'\n",
        "   - Lists are used to store multiple items in a single variable. A list can   \n",
        "     hold many types (numbers, strings, etc.). They are defined by enclosing comma-separated elements within square brackets [].\n",
        "      - Ex = ['Hello', 1, 2.7, 3+5j]\n",
        "   - Strings are immutable while Lists are mutable.\n",
        "\n",
        "7. How do tuples ensure data integrity in Python?\n",
        "   - Tuples cannot be changed (immutable) which ensures data stays safe and\n",
        "     unchanged.\n",
        "\n",
        "8. What is a hash table, and how does it relate to dictionaries in Python?\n",
        "   - A hash table is a data structure that stores data in key–value pairs.\n",
        "   - It uses a hash function to convert the key (like \"name\") into an index (a number) that points to where the value is stored in memory.\n",
        "   - This makes searching for data very fast because instead of looking through the whole list, Python jumps directly to the memory location.\n",
        "\n",
        "   - Python’s dictionaries (dict) are implemented using hash tables.\n",
        "\n",
        "     - my_dict = {\"name\": \"Umang\", \"age\": 25}.\n",
        "       The key \"name\" is hashed => gives an index => \"Umang\" is stored at that index. Same for \"age\".\n",
        "\n",
        "9. Can lists contain different data types in Python?\n",
        "    - Yes, a list can hold multiple data types like strings, numbers, floats,\n",
        "     complex numbers, boolean, sets, tuples, etc.\n",
        "      - Ex : [1, \"hello\", 3.5, True].\n",
        "\n",
        "10. Explain why strings are immutable in Python.\n",
        "    - Strings are immutable which makes them safe and efficient.\n",
        "    - Changing / modifying a string creates a new string but the original string\n",
        "     remains unchanged.\n",
        "\n",
        "11. What advantages do dictionaries offer over lists for certain tasks?\n",
        "    - Dictionaries are better when you need to search by a key quickly.\n",
        "    - For example, finding someone’s phone number by their name.\n",
        "\n",
        "12. Describe a scenario where using a tuple would be preferable over a list.\n",
        "    - If I want to store fixed data like employee id which   \n",
        "      never changes, I will use a tuple.\n",
        "\n",
        "13. How do sets handle duplicate values in Python?\n",
        "    - Sets automatically remove duplicates.\n",
        "      - Example: {1,2,2,3} → {1,2,3}.\n",
        "\n",
        "14. How does the “in” keyword work differently for lists and dictionaries?\n",
        "    - For lists: checks if a value exists => 3 in [1,2,3].\n",
        "    - For dictionaries: checks if a key exists => \"name\" in {\"name\": \"Umang\"}.\n",
        "\n",
        "15. Can you modify the elements of a tuple? Explain why or why not.\n",
        "    - No, because tuples are immutable. Once created, their elements cannot be\n",
        "      changed.\n",
        "\n",
        "16. What is a nested dictionary, and give an example of its use case.\n",
        "    - A dictionary inside another dictionary. Example:\n",
        "      - Ex  =>  storing structured data like student details.\n",
        "\n",
        "        students = {\n",
        "          \"A\": {\"name\": \"Rahul\", \"age\": 20},\n",
        "          \"B\": {\"name\": \"Priya\", \"age\": 22}\n",
        "        }\n",
        "\n",
        "17. Describe the time complexity of accessing elements in a dictionary.\n",
        "    - Time complexity is usually O(1) (constant time). Because of this  \n",
        "      dictionary are fast.\n",
        "\n",
        "18. In what situations are lists preferred over dictionaries?\n",
        "    - We use lists when order matters and we just need a collection of items  \n",
        "      without keys.\n",
        "      -  Example: storing a list of names.\n",
        "    - We use dictionaries when need to store data as key-value pair.\n",
        "      -  Example: storing details of employees.\n",
        "\n",
        "19. Why are dictionaries considered unordered, and how does that affect data\n",
        "     retrieval?  \n",
        "    - Before Python 3.7, dictionaries didn’t guarantee order. That\n",
        "      means items were not stored in the same sequence you added them.\n",
        "      Dictionaries primary purpose is fast, key-based access, not maintaining the order of insertion.\n",
        "    - But since Python 3.7+, they maintain insertion order. Retrieval is still\n",
        "      by key, not position.\n",
        "\n",
        "20. Explain the difference between a list and a dictionary in terms of data\n",
        "     retrieval.\n",
        "    - List: access by index → list[0].\n",
        "    - Dictionary: access by key → dict[\"name\"]."
      ],
      "metadata": {
        "id": "5LH3upXcQmfx"
      }
    },
    {
      "cell_type": "markdown",
      "source": [
        "# Practical Questions\n"
      ],
      "metadata": {
        "id": "rQxp7E32mFUW"
      }
    },
    {
      "cell_type": "code",
      "execution_count": 3,
      "metadata": {
        "colab": {
          "base_uri": "https://localhost:8080/"
        },
        "id": "SWDC2oiQQDdI",
        "outputId": "71545d65-2c48-4300-a252-98fed02fb5cc"
      },
      "outputs": [
        {
          "output_type": "stream",
          "name": "stdout",
          "text": [
            "Umang Jain\n"
          ]
        }
      ],
      "source": [
        "#1 Write a code to create a string with your name and print it.\n",
        "\n",
        "name = 'Umang Jain'\n",
        "print(name)"
      ]
    },
    {
      "cell_type": "code",
      "source": [
        "#2 Write a code to find the length of the string \"Hello World\".\n",
        "\n",
        "my_string = \"Hello World\"\n",
        "print(len(my_string))"
      ],
      "metadata": {
        "colab": {
          "base_uri": "https://localhost:8080/"
        },
        "id": "gkkMWTHDms9r",
        "outputId": "11704133-4b63-4202-9b4a-a0422bf00480"
      },
      "execution_count": 4,
      "outputs": [
        {
          "output_type": "stream",
          "name": "stdout",
          "text": [
            "11\n"
          ]
        }
      ]
    },
    {
      "cell_type": "code",
      "source": [
        "#3 Write a code to slice the first 3 characters from the string \"Python Programming\".\n",
        "\n",
        "my_string = \"Python Programming\"\n",
        "print(my_string[:3])"
      ],
      "metadata": {
        "colab": {
          "base_uri": "https://localhost:8080/"
        },
        "id": "5ZOLGCTOnMMV",
        "outputId": "668174a8-36a7-4e4d-e7ed-50b8164cfc06"
      },
      "execution_count": 5,
      "outputs": [
        {
          "output_type": "stream",
          "name": "stdout",
          "text": [
            "Pyt\n"
          ]
        }
      ]
    },
    {
      "cell_type": "code",
      "source": [
        "#4 Write a code to convert the string \"hello\" to uppercase.\n",
        "\n",
        "my_string = \"hello\"\n",
        "print(my_string.upper())"
      ],
      "metadata": {
        "colab": {
          "base_uri": "https://localhost:8080/"
        },
        "id": "M_eKGQbEniNf",
        "outputId": "d8add868-7653-443d-ac2a-362051844556"
      },
      "execution_count": 6,
      "outputs": [
        {
          "output_type": "stream",
          "name": "stdout",
          "text": [
            "HELLO\n"
          ]
        }
      ]
    },
    {
      "cell_type": "code",
      "source": [
        "#5 Write a code to replace the word \"apple\" with \"orange\" in the string \"I like apple\".\n",
        "\n",
        "my_string = \"I like apple\"\n",
        "print(my_string.replace(\"apple\", \"orange\"))"
      ],
      "metadata": {
        "colab": {
          "base_uri": "https://localhost:8080/"
        },
        "id": "UXKg428XnsWn",
        "outputId": "1061048e-deed-4bf0-cb73-4d44edd1d34c"
      },
      "execution_count": 7,
      "outputs": [
        {
          "output_type": "stream",
          "name": "stdout",
          "text": [
            "I like orange\n"
          ]
        }
      ]
    },
    {
      "cell_type": "code",
      "source": [
        "#6 Write a code to create a list with numbers 1 to 5 and print it.\n",
        "\n",
        "my_list = [1,2,3,4,5]\n",
        "print(my_list)\n"
      ],
      "metadata": {
        "colab": {
          "base_uri": "https://localhost:8080/"
        },
        "id": "jZ78a56Hn6Vd",
        "outputId": "f7aa3f9e-08d8-4377-f39f-efce944afcfe"
      },
      "execution_count": 8,
      "outputs": [
        {
          "output_type": "stream",
          "name": "stdout",
          "text": [
            "[1, 2, 3, 4, 5]\n"
          ]
        }
      ]
    },
    {
      "cell_type": "code",
      "source": [
        "#7 Write a code to append the number 10 to the list [1, 2, 3, 4].\n",
        "\n",
        "my_list = [1,2,3,4]\n",
        "my_list.append(10)\n",
        "print(my_list)"
      ],
      "metadata": {
        "colab": {
          "base_uri": "https://localhost:8080/"
        },
        "id": "2VRsEBdNogha",
        "outputId": "1fa506a9-ca02-46ba-abf5-1e30c2f0f7cc"
      },
      "execution_count": 9,
      "outputs": [
        {
          "output_type": "stream",
          "name": "stdout",
          "text": [
            "[1, 2, 3, 4, 10]\n"
          ]
        }
      ]
    },
    {
      "cell_type": "code",
      "source": [
        "#8 Write a code to remove the number 3 from the list [1, 2, 3, 4, 5].\n",
        "\n",
        "my_list = [1,2,3,4,5]\n",
        "my_list.remove(3)\n",
        "print(my_list)"
      ],
      "metadata": {
        "colab": {
          "base_uri": "https://localhost:8080/"
        },
        "id": "IAfTQRHop7AF",
        "outputId": "759e47ad-0c1a-4c55-9e12-77d7019b6545"
      },
      "execution_count": 10,
      "outputs": [
        {
          "output_type": "stream",
          "name": "stdout",
          "text": [
            "[1, 2, 4, 5]\n"
          ]
        }
      ]
    },
    {
      "cell_type": "code",
      "source": [
        "#9 Write a code to access the second element in the list ['a', 'b', 'c', 'd'].\n",
        "\n",
        "my_list = ['a', 'b', 'c', 'd']\n",
        "print(my_list[1])"
      ],
      "metadata": {
        "colab": {
          "base_uri": "https://localhost:8080/"
        },
        "id": "ISifR6BeqBL8",
        "outputId": "b4eeab7f-5035-4aa2-8261-ec49d734132a"
      },
      "execution_count": 11,
      "outputs": [
        {
          "output_type": "stream",
          "name": "stdout",
          "text": [
            "b\n"
          ]
        }
      ]
    },
    {
      "cell_type": "code",
      "source": [
        "#10 Write a code to reverse the list [10, 20, 30, 40, 50].\n",
        "\n",
        "my_list = [10, 20, 30, 40, 50]\n",
        "print(my_list[::-1])"
      ],
      "metadata": {
        "colab": {
          "base_uri": "https://localhost:8080/"
        },
        "id": "PefZoTQ3rgnn",
        "outputId": "7a65e575-3949-4795-88fc-cdb2759421c2"
      },
      "execution_count": 12,
      "outputs": [
        {
          "output_type": "stream",
          "name": "stdout",
          "text": [
            "[50, 40, 30, 20, 10]\n"
          ]
        }
      ]
    },
    {
      "cell_type": "code",
      "source": [
        "#11 Write a code to create a tuple with the elements 100, 200, 300 and print it.\n",
        "\n",
        "my_tuple = (100, 200, 300)\n",
        "print(my_tuple)\n"
      ],
      "metadata": {
        "colab": {
          "base_uri": "https://localhost:8080/"
        },
        "id": "Btk4SdTRrmZp",
        "outputId": "b5040ce5-a566-4666-a596-a264ac0f1af6"
      },
      "execution_count": 13,
      "outputs": [
        {
          "output_type": "stream",
          "name": "stdout",
          "text": [
            "(100, 200, 300)\n"
          ]
        }
      ]
    },
    {
      "cell_type": "code",
      "source": [
        "#12  Write a code to access the second-to-last element of the tuple ('red', 'green', 'blue', 'yellow').\n",
        "\n",
        "color = ('red', 'green', 'blue', 'yellow')\n",
        "second_last = color[-2]\n",
        "print(second_last)"
      ],
      "metadata": {
        "colab": {
          "base_uri": "https://localhost:8080/"
        },
        "id": "Ys4uRlEPruWV",
        "outputId": "412945c8-7741-4d86-ccf0-e8229ff8dbbc"
      },
      "execution_count": 14,
      "outputs": [
        {
          "output_type": "stream",
          "name": "stdout",
          "text": [
            "blue\n"
          ]
        }
      ]
    },
    {
      "cell_type": "code",
      "source": [
        "#13 Write a code to find the minimum number in the tuple (10, 20, 5, 15).\n",
        "\n",
        "numbers = (10, 20, 5, 15)\n",
        "print(min(numbers))"
      ],
      "metadata": {
        "colab": {
          "base_uri": "https://localhost:8080/"
        },
        "id": "ZfpIFfHYsNpt",
        "outputId": "6153c92d-673d-499e-de4b-9cf6ab43264f"
      },
      "execution_count": 16,
      "outputs": [
        {
          "output_type": "stream",
          "name": "stdout",
          "text": [
            "5\n"
          ]
        }
      ]
    },
    {
      "cell_type": "code",
      "source": [
        "#14 Write a code to find the index of the element \"cat\" in the tuple ('dog', 'cat', 'rabbit').\n",
        "\n",
        "animals = ('dog', 'cat', 'rabbit')\n",
        "print(animals.index('cat'))"
      ],
      "metadata": {
        "colab": {
          "base_uri": "https://localhost:8080/"
        },
        "id": "S2G_7CG4sVOh",
        "outputId": "c1ddbfd7-5745-43df-fe60-5652fed10e10"
      },
      "execution_count": 18,
      "outputs": [
        {
          "output_type": "stream",
          "name": "stdout",
          "text": [
            "1\n"
          ]
        }
      ]
    },
    {
      "cell_type": "code",
      "source": [
        "#15 Write a code to create a tuple containing three different fruits and check if \"kiwi\" is in it.\n",
        "\n",
        "fruits = ('apple', 'banana', 'orange')\n",
        "if 'kiwi' in fruits:\n",
        "  print('Yes, kiwi is available in fruits.')\n",
        "else:\n",
        "  print('No, kiwi is not available in fruits.')"
      ],
      "metadata": {
        "colab": {
          "base_uri": "https://localhost:8080/"
        },
        "id": "-eWhdXdls1Pk",
        "outputId": "557e7a1f-83c5-4499-c423-e0527395d28a"
      },
      "execution_count": 21,
      "outputs": [
        {
          "output_type": "stream",
          "name": "stdout",
          "text": [
            "No, kiwi is not available in fruits.\n"
          ]
        }
      ]
    },
    {
      "cell_type": "code",
      "source": [
        "#16 Write a code to create a set with the elements 'a', 'b', 'c' and print it.\n",
        "\n",
        "my_set = {'a', 'b', 'c'}\n",
        "print(my_set)"
      ],
      "metadata": {
        "colab": {
          "base_uri": "https://localhost:8080/"
        },
        "id": "jKR0xnvZuhw3",
        "outputId": "50ce36fd-887c-425d-812b-a33c03bcf86e"
      },
      "execution_count": 23,
      "outputs": [
        {
          "output_type": "stream",
          "name": "stdout",
          "text": [
            "{'b', 'a', 'c'}\n"
          ]
        }
      ]
    },
    {
      "cell_type": "code",
      "source": [
        "#17 Write a code to clear all elements from the set {1, 2, 3, 4, 5}.\n",
        "\n",
        "my_set = {1, 2, 3, 4, 5}\n",
        "my_set.clear()\n",
        "print(my_set)"
      ],
      "metadata": {
        "colab": {
          "base_uri": "https://localhost:8080/"
        },
        "id": "ELjn4FCdwVXH",
        "outputId": "0e005a70-fb69-47b2-f617-27aee930d516"
      },
      "execution_count": 24,
      "outputs": [
        {
          "output_type": "stream",
          "name": "stdout",
          "text": [
            "set()\n"
          ]
        }
      ]
    },
    {
      "cell_type": "code",
      "source": [
        "#18 Write a code to remove the element 4 from the set {1, 2, 3, 4}.\n",
        "\n",
        "my_set = {1,2,3,4}\n",
        "my_set.remove(4)\n",
        "print(my_set)"
      ],
      "metadata": {
        "colab": {
          "base_uri": "https://localhost:8080/"
        },
        "id": "ahNrJ42nwrhh",
        "outputId": "51b09838-d865-4883-b87d-d07bba1185b9"
      },
      "execution_count": 25,
      "outputs": [
        {
          "output_type": "stream",
          "name": "stdout",
          "text": [
            "{1, 2, 3}\n"
          ]
        }
      ]
    },
    {
      "cell_type": "code",
      "source": [
        "#19 Write a code to find the union of two sets {1, 2, 3} and {3, 4, 5}.\n",
        "\n",
        "set1 = {1,2,3}\n",
        "set2 = {3,4,5}\n",
        "set3 = set1.union(set2)\n",
        "print(set3)"
      ],
      "metadata": {
        "colab": {
          "base_uri": "https://localhost:8080/"
        },
        "id": "CxRRjZJNw6MC",
        "outputId": "6c9f808b-78d0-44fc-9dda-effb7d48dda1"
      },
      "execution_count": 26,
      "outputs": [
        {
          "output_type": "stream",
          "name": "stdout",
          "text": [
            "{1, 2, 3, 4, 5}\n"
          ]
        }
      ]
    },
    {
      "cell_type": "code",
      "source": [
        "#20 Write a code to find the intersection of two sets {1, 2, 3} and {2, 3, 4}.\n",
        "\n",
        "set1 = {1,2,3}\n",
        "set2 = {2,3,4}\n",
        "set3 = set1.intersection(set2)\n",
        "print(set3)"
      ],
      "metadata": {
        "colab": {
          "base_uri": "https://localhost:8080/"
        },
        "id": "Iot6oPHWxF0A",
        "outputId": "81e269c4-a218-4f21-da1f-209789c115c0"
      },
      "execution_count": 27,
      "outputs": [
        {
          "output_type": "stream",
          "name": "stdout",
          "text": [
            "{2, 3}\n"
          ]
        }
      ]
    },
    {
      "cell_type": "code",
      "source": [
        "#21 Write a code to create a dictionary with the keys \"name\", \"age\", and \"city\", and print it.\n",
        "\n",
        "my_dict = {\"name\": \"Umang\", \"age\": 25, \"city\": \"Delhi\"}\n",
        "print(my_dict)"
      ],
      "metadata": {
        "colab": {
          "base_uri": "https://localhost:8080/"
        },
        "id": "3O9KtR_-xPje",
        "outputId": "cf64ca8f-8742-4f9b-e9f5-d7d1db017833"
      },
      "execution_count": 28,
      "outputs": [
        {
          "output_type": "stream",
          "name": "stdout",
          "text": [
            "{'name': 'Umang', 'age': 25, 'city': 'Delhi'}\n"
          ]
        }
      ]
    },
    {
      "cell_type": "code",
      "source": [
        "#22 Write a code to add a new key-value pair \"country\": \"USA\" to the dictionary {'name': 'John', 'age': 25}.\n",
        "\n",
        "my_dict = {'name': 'John', 'age': 25}\n",
        "my_dict['country'] = 'USA'\n",
        "print(my_dict)\n"
      ],
      "metadata": {
        "colab": {
          "base_uri": "https://localhost:8080/"
        },
        "id": "jnf27Rxoxgtw",
        "outputId": "bd92d001-ae06-44e0-9247-ff175eac5b6b"
      },
      "execution_count": 29,
      "outputs": [
        {
          "output_type": "stream",
          "name": "stdout",
          "text": [
            "{'name': 'John', 'age': 25, 'country': 'USA'}\n"
          ]
        }
      ]
    },
    {
      "cell_type": "code",
      "source": [
        "#23 Write a code to access the value associated with the key \"name\" in the dictionary {'name': 'Alice', 'age': 30}.\n",
        "\n",
        "my_dict = {'name': 'Alice', 'age': 30}\n",
        "print(my_dict['name'])"
      ],
      "metadata": {
        "colab": {
          "base_uri": "https://localhost:8080/"
        },
        "id": "d7vMcxpaxol5",
        "outputId": "a4b52ca9-6c13-4bbc-ec58-37512f45be11"
      },
      "execution_count": 30,
      "outputs": [
        {
          "output_type": "stream",
          "name": "stdout",
          "text": [
            "Alice\n"
          ]
        }
      ]
    },
    {
      "cell_type": "code",
      "source": [
        "#24 Write a code to remove the key \"age\" from the dictionary {'name': 'Bob', 'age': 22, 'city': 'New York'}.\n",
        "\n",
        "my_dict = {'name': 'Bob', 'age': 22, 'city': 'New York'}\n",
        "del my_dict['age']\n",
        "print(my_dict)"
      ],
      "metadata": {
        "colab": {
          "base_uri": "https://localhost:8080/"
        },
        "id": "SzgJtm9vxwyA",
        "outputId": "cce384cb-985d-4072-ed1a-7d7729c2dc0e"
      },
      "execution_count": 31,
      "outputs": [
        {
          "output_type": "stream",
          "name": "stdout",
          "text": [
            "{'name': 'Bob', 'city': 'New York'}\n"
          ]
        }
      ]
    },
    {
      "cell_type": "code",
      "source": [
        "#25 Write a code to check if the key \"city\" exists in the dictionary {'name': 'Alice', 'city': 'Paris'}.\n",
        "\n",
        "my_dict = {'name': 'Alice', 'city': 'Paris'}\n",
        "if 'city' in my_dict.keys():\n",
        "  print('city is a key in the dictionary.')\n",
        "else:\n",
        "  print('city is not a key in the dictionary.')"
      ],
      "metadata": {
        "colab": {
          "base_uri": "https://localhost:8080/"
        },
        "id": "q3EyD4psx6QR",
        "outputId": "a745e0b1-6ab0-4789-ff55-9afa526f7e63"
      },
      "execution_count": 41,
      "outputs": [
        {
          "output_type": "stream",
          "name": "stdout",
          "text": [
            "city is a key in the dictionary.\n"
          ]
        }
      ]
    },
    {
      "cell_type": "code",
      "source": [
        "#26 Write a code to create a list, a tuple, and a dictionary, and print them all.\n",
        "\n",
        "my_list = [1,2,3]\n",
        "my_tuple = (1,2,3)\n",
        "my_dict = {\"name\": \"Umang\", \"age\": 25}\n",
        "\n",
        "print('List:', my_list)\n",
        "print('Tuple:', my_tuple)\n",
        "print('Dictionary:', my_dict)"
      ],
      "metadata": {
        "colab": {
          "base_uri": "https://localhost:8080/"
        },
        "id": "yVyrYPo2yEVC",
        "outputId": "22427863-12cc-4011-bc73-3571cd816130"
      },
      "execution_count": 34,
      "outputs": [
        {
          "output_type": "stream",
          "name": "stdout",
          "text": [
            "List: [1, 2, 3]\n",
            "Tuple: (1, 2, 3)\n",
            "Dictionary: {'name': 'Umang', 'age': 25}\n"
          ]
        }
      ]
    },
    {
      "cell_type": "code",
      "source": [
        "#27 Write a code to create a list of 5 random numbers between 1 and 100, sort it in ascending order, and print the result.\n",
        "\n",
        "import random\n",
        "numbers = []\n",
        "for i in range(5):\n",
        "  numbers.append(random.randint(1,100))\n",
        "numbers.sort()\n",
        "print(numbers)"
      ],
      "metadata": {
        "colab": {
          "base_uri": "https://localhost:8080/"
        },
        "id": "tcwPaPwcyl0V",
        "outputId": "f9d3adf2-79c5-4812-b7ab-397a3298bf6b"
      },
      "execution_count": 36,
      "outputs": [
        {
          "output_type": "stream",
          "name": "stdout",
          "text": [
            "[39, 53, 75, 86, 97]\n"
          ]
        }
      ]
    },
    {
      "cell_type": "code",
      "source": [
        "#28 Write a code to create a list with strings and print the element at the third index.\n",
        "\n",
        "my_list = ['Hello', 'World', 'Python', 'Programming']\n",
        "print(my_list[3])"
      ],
      "metadata": {
        "colab": {
          "base_uri": "https://localhost:8080/"
        },
        "id": "fL5SONNdzeDh",
        "outputId": "63115eec-4626-437a-ed40-0dac5823cc4e"
      },
      "execution_count": 37,
      "outputs": [
        {
          "output_type": "stream",
          "name": "stdout",
          "text": [
            "Programming\n"
          ]
        }
      ]
    },
    {
      "cell_type": "code",
      "source": [
        "#29 Write a code to combine two dictionaries into one and print the result.\n",
        "\n",
        "dict1 = {'a': 1, 'b': 2}\n",
        "dict2 = {'c': 3, 'd': 4}\n",
        "dict3 = dict1 | dict2\n",
        "print(dict3)"
      ],
      "metadata": {
        "colab": {
          "base_uri": "https://localhost:8080/"
        },
        "id": "V85Pe9mf1ZJ0",
        "outputId": "d401f500-f2b5-4fe7-c801-f9ed301168a7"
      },
      "execution_count": 38,
      "outputs": [
        {
          "output_type": "stream",
          "name": "stdout",
          "text": [
            "{'a': 1, 'b': 2, 'c': 3, 'd': 4}\n"
          ]
        }
      ]
    },
    {
      "cell_type": "code",
      "source": [
        "#30 Write a code to convert a list of strings into a set.\n",
        "\n",
        "my_list = ['apple', 'banana', 'orange', 'apple', 'orange']\n",
        "my_set = set(my_list)\n",
        "print(my_set)"
      ],
      "metadata": {
        "colab": {
          "base_uri": "https://localhost:8080/"
        },
        "id": "Lksbw5aq3B1P",
        "outputId": "f0732f6b-ccda-404d-a8de-345dd6d7a733"
      },
      "execution_count": 40,
      "outputs": [
        {
          "output_type": "stream",
          "name": "stdout",
          "text": [
            "{'banana', 'orange', 'apple'}\n"
          ]
        }
      ]
    },
    {
      "cell_type": "code",
      "source": [],
      "metadata": {
        "id": "3AsDAulQ3NqZ"
      },
      "execution_count": null,
      "outputs": []
    }
  ]
}