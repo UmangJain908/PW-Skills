{
  "nbformat": 4,
  "nbformat_minor": 0,
  "metadata": {
    "colab": {
      "provenance": []
    },
    "kernelspec": {
      "name": "python3",
      "display_name": "Python 3"
    },
    "language_info": {
      "name": "python"
    }
  },
  "cells": [
    {
      "cell_type": "markdown",
      "source": [],
      "metadata": {
        "id": "zc2_LcZ1FuwR"
      }
    },
    {
      "cell_type": "markdown",
      "source": [
        "# Python Basics Questions"
      ],
      "metadata": {
        "id": "inl1eZavFw0w"
      }
    },
    {
      "cell_type": "markdown",
      "source": [
        "1. What is Python, and why is it popular?\n",
        "   - Python is a high-level programming language that is easy to read and write. It is an interpreted and object-oriented language.\n",
        "   - Python is popular because:\n",
        "     - It has simple syntax, so it is beginner-friendly.\n",
        "     - It works on different platforms (Windows, Mac, Linux).\n",
        "     - It can be used for many things like web development, data science, AI/  ML, and automation.\n",
        "     - It has a large number of libraries and frameworks that make coding easier.\n",
        "     - It has huge community support, so help is always available.\n",
        "\n",
        "2. What is an interpreter in Python?\n",
        "   - The interpreter is a program that executes Python code line by line.\n",
        "     It converts Python code into machine-understandable form and executes it.\n",
        "\n",
        "3. What are pre-defined keywords in Python?\n",
        "   - Keywords are special reserved words in Python.\n",
        "     They have fixed meanings and cannot be used as variable names.\n",
        "   - Example: if, else, while, for, True, False.\n",
        "\n",
        "4. Can keywords be used as variable names?\n",
        "   - No, keywords cannot be used as variable names because they already have a special meaning in Python.\n",
        "\n",
        "5. What is mutability in Python?\n",
        "   - Mutability means whether the data in a data structure can be changed or not after it is created.\n",
        "   - If the data can be changed (like in lists, dictionaries, sets), the data structure is mutable.\n",
        "   - If the data cannot be changed (like in tuples, strings), the data structure is immutable.\n",
        "\n",
        "6. Why are lists mutable, but tuples are immutable?\n",
        "   - Lists are designed to store dynamic data which often changes therefore lists are mutable so we can add, remove, or change the data.\n",
        "   - Tuples are designed to store fixed data which does not change therefore tuples are immutable so we cannot change the data.\n",
        "\n",
        "7. What is the difference between “==” and “is” operators in Python?\n",
        "   - \"==\" checks if the values of variables are equal.\n",
        "   - \"is\" checks if both variables refers to the same address in memory.\n",
        "\n",
        "8. What are logical operators in Python?\n",
        "   - Logical operators in Python are used to check and combine conditions.\n",
        "   - and → True only if both conditions are True.\n",
        "   - or → True if at least one condition is True.\n",
        "   - not → reverses the result. True becomes False, False becomes True.\n",
        "\n",
        "9. What is type casting in Python?\n",
        "   - Type casting means changing one data type into another.\n",
        "   - Example: int(7.5) -> 7  (converts float to integer).\n",
        "\n",
        "10. What is the difference between implicit and explicit type casting?\n",
        "    - Implicit casting : Python automatically converts one data type into    another.\n",
        "      - Example: 5 + 3.5 = 8.5 -> Python converts 5 into float.\n",
        "\n",
        "    - Explicit casting: We manually change the type using functions like int(), float(), str().\n",
        "      - Example : int(7.5) -> 7 (converts float to integer).\n",
        "\n",
        "11. What is the purpose of conditional statements in Python?\n",
        "    - Conditional statements help us make decisions in a program.\n",
        "    - They let the code run only when a condition is True.\n",
        "    - Examples: if, else, elif.\n",
        "\n",
        "12. How does the elif statement work?\n",
        "    - elif stands for else if. It is a conditional statement which checks a condition only if the previous 'if' condition is False.\n",
        "\n",
        "13. What is the difference between for and while loops?\n",
        "    - for loop in Python is used to iterate over a sequence (such as a list, tuple, etc.) and other iterable data structures. It allows you to execute a block of code repeatedly, once for each item in the sequence.\n",
        "\n",
        "    - while loop executes block of code repeatedly as long as the condition is true.\n",
        "\n",
        "14. Describe a scenario where a while loop is more suitable than a for loop?\n",
        "    - We use a while loop when we don’t know how many times the loop will run.\n",
        "    - Scenario : keep asking the user for a password until they enter the correct one."
      ],
      "metadata": {
        "id": "PCpsEZQ0F_TI"
      }
    },
    {
      "cell_type": "markdown",
      "source": [
        "# Practical Questions"
      ],
      "metadata": {
        "id": "qn5umahoYXJS"
      }
    },
    {
      "cell_type": "code",
      "source": [
        "#1 Write a Python program to print \"Hello, World!\n",
        "\n",
        "text = \"Hello, World!\"\n",
        "print(text)"
      ],
      "metadata": {
        "colab": {
          "base_uri": "https://localhost:8080/"
        },
        "id": "J93xzueSF0Ts",
        "outputId": "d8accd60-7366-4c45-b224-cc03b44c668b"
      },
      "execution_count": 34,
      "outputs": [
        {
          "output_type": "stream",
          "name": "stdout",
          "text": [
            "Hello, World!\n"
          ]
        }
      ]
    },
    {
      "cell_type": "code",
      "source": [
        "#2 Write a Python program that displays your name and age\n",
        "\n",
        "name = \"Umang Jain\"\n",
        "age = 27\n",
        "print(\"Name :\", name)\n",
        "print(\"Age :\", age)"
      ],
      "metadata": {
        "colab": {
          "base_uri": "https://localhost:8080/"
        },
        "id": "P880aILlYw1X",
        "outputId": "e86a0974-15b4-43fd-b5f2-8e13a1aaa15a"
      },
      "execution_count": 35,
      "outputs": [
        {
          "output_type": "stream",
          "name": "stdout",
          "text": [
            "Name : Umang Jain\n",
            "Age : 27\n"
          ]
        }
      ]
    },
    {
      "cell_type": "markdown",
      "source": [],
      "metadata": {
        "id": "7IC6GmHbaYIs"
      }
    },
    {
      "cell_type": "code",
      "source": [
        "#3 Write code to print all the pre-defined keywords in Python using the keyword library\n",
        "\n",
        "import keyword\n",
        "print(keyword.kwlist)\n"
      ],
      "metadata": {
        "colab": {
          "base_uri": "https://localhost:8080/"
        },
        "id": "bZ82WLmcZnp6",
        "outputId": "0932704f-599f-485f-e99d-76c8fe5719a1"
      },
      "execution_count": 36,
      "outputs": [
        {
          "output_type": "stream",
          "name": "stdout",
          "text": [
            "['False', 'None', 'True', 'and', 'as', 'assert', 'async', 'await', 'break', 'class', 'continue', 'def', 'del', 'elif', 'else', 'except', 'finally', 'for', 'from', 'global', 'if', 'import', 'in', 'is', 'lambda', 'nonlocal', 'not', 'or', 'pass', 'raise', 'return', 'try', 'while', 'with', 'yield']\n"
          ]
        }
      ]
    },
    {
      "cell_type": "code",
      "source": [
        "#4 Write a program that checks if a given word is a Python keyword\n",
        "\n",
        "import keyword\n",
        "a = 'False'\n",
        "if a in keyword.kwlist:\n",
        "    print(a, \"is a keyword\")\n",
        "else:\n",
        "    print(a, \"is not a keyword\")"
      ],
      "metadata": {
        "colab": {
          "base_uri": "https://localhost:8080/"
        },
        "id": "GQXCXAmAaYW6",
        "outputId": "9badcd75-5194-42ea-feb3-4af4725fa5dd"
      },
      "execution_count": 37,
      "outputs": [
        {
          "output_type": "stream",
          "name": "stdout",
          "text": [
            "False is a keyword\n"
          ]
        }
      ]
    },
    {
      "cell_type": "code",
      "source": [
        "#5  Create a list and tuple in Python, and demonstrate how attempting to change an element works differently for each\n",
        "\n",
        "from logging import exception\n",
        "\n",
        "a = [1,2,3,4]\n",
        "b = (10,11,12)\n",
        "\n",
        "a[0] = 5\n",
        "print('list:', a)     # prints list: [5, 2, 3, 4]\n",
        "\n",
        "try :\n",
        "  b[0] = 13\n",
        "  print('tuple:', b)    # results in an error since tuples are immutable.\n",
        "except Exception as e:\n",
        "  print(e)"
      ],
      "metadata": {
        "colab": {
          "base_uri": "https://localhost:8080/"
        },
        "id": "bgMb232Fbk0C",
        "outputId": "da2b73b4-b4b5-47ea-b993-16dc19d9ce16"
      },
      "execution_count": 38,
      "outputs": [
        {
          "output_type": "stream",
          "name": "stdout",
          "text": [
            "list: [5, 2, 3, 4]\n",
            "'tuple' object does not support item assignment\n"
          ]
        }
      ]
    },
    {
      "cell_type": "code",
      "source": [
        "#6 Write a function to demonstrate the behavior of mutable and immutable arguments.\n",
        "\n",
        "def mutable_immutable(list_arg, int_arg):\n",
        "    list_arg.append(50)\n",
        "    int_arg = 100+200\n",
        "    print(\"List inside function:\", list_arg)\n",
        "    print(\"Integer inside function:\", int_arg)\n",
        "\n",
        "my_list = [10, 20, 30, 40]\n",
        "my_int = 100\n",
        "\n",
        "mutable_immutable(my_list, my_int)\n",
        "print()\n",
        "print(\"List Outside function:\", my_list)\n",
        "print(\"Integer outside function:\", my_int)"
      ],
      "metadata": {
        "colab": {
          "base_uri": "https://localhost:8080/"
        },
        "id": "UwcSaY3ecxlO",
        "outputId": "5027c986-a425-4b99-96f9-da09d0a9d0c3"
      },
      "execution_count": 39,
      "outputs": [
        {
          "output_type": "stream",
          "name": "stdout",
          "text": [
            "List inside function: [10, 20, 30, 40, 50]\n",
            "Integer inside function: 300\n",
            "\n",
            "List Outside function: [10, 20, 30, 40, 50]\n",
            "Integer outside function: 100\n"
          ]
        }
      ]
    },
    {
      "cell_type": "code",
      "source": [
        "#7 Write a program that performs basic arithmetic operations on two user-input numbers.\n",
        "\n",
        "input1 = int(input('Enter first number: '))\n",
        "input2 = int(input('Enter second number: '))\n",
        "\n",
        "print('Addition:', input1+input2)\n",
        "print('Subtraction:', input1-input2)\n",
        "print('Multiplication:', input1*input2)\n",
        "print('Division:', input1/input2)"
      ],
      "metadata": {
        "colab": {
          "base_uri": "https://localhost:8080/"
        },
        "id": "ix0-vQ_Yg8SC",
        "outputId": "9a2bbf1f-e66a-4025-910e-8babbe83851e"
      },
      "execution_count": 40,
      "outputs": [
        {
          "output_type": "stream",
          "name": "stdout",
          "text": [
            "Enter first number: 10\n",
            "Enter second number: 5\n",
            "Addition: 15\n",
            "Subtraction: 5\n",
            "Multiplication: 50\n",
            "Division: 2.0\n"
          ]
        }
      ]
    },
    {
      "cell_type": "code",
      "source": [
        "#8 Write a program to demonstrate the use of logical operators\n",
        "\n",
        "age = int(input('Enter your age: '))\n",
        "has_id = input(\"Do you have an ID? (yes/no): \").lower()\n",
        "\n",
        "if age >= 18 and has_id == 'yes':\n",
        "    print('You are eligible to vote')\n",
        "\n",
        "else:\n",
        "    print('You are not eligible to vote')\n"
      ],
      "metadata": {
        "colab": {
          "base_uri": "https://localhost:8080/"
        },
        "id": "cN7RwE8tj9Ds",
        "outputId": "2683c30c-97f1-4ebc-ae72-39ec704cc2fe"
      },
      "execution_count": 41,
      "outputs": [
        {
          "output_type": "stream",
          "name": "stdout",
          "text": [
            "Enter your age: 27\n",
            "Do you have an ID? (yes/no): yes\n",
            "You are eligible to vote\n"
          ]
        }
      ]
    },
    {
      "cell_type": "code",
      "source": [
        "#9 Write a Python program to convert user input from string to integer, float, and boolean types\n",
        "string_input = input('Enter a string: ')\n",
        "integer_output = int(string_input)\n",
        "float_output = float(string_input)\n",
        "boolean_output = bool(string_input)\n",
        "\n",
        "print('String:', string_input)\n",
        "print('Integer:', integer_output)\n",
        "print('Float:', float_output)\n",
        "print('Boolean:', boolean_output)\n"
      ],
      "metadata": {
        "colab": {
          "base_uri": "https://localhost:8080/"
        },
        "id": "tos9WrQ5kx1l",
        "outputId": "7ffafd90-94c1-4dee-f40b-f79d5015d80b"
      },
      "execution_count": 42,
      "outputs": [
        {
          "output_type": "stream",
          "name": "stdout",
          "text": [
            "Enter a string: 54\n",
            "String: 54\n",
            "Integer: 54\n",
            "Float: 54.0\n",
            "Boolean: True\n"
          ]
        }
      ]
    },
    {
      "cell_type": "code",
      "source": [
        "#10 Write code to demonstrate type casting with list elements.\n",
        "\n",
        "my_list = ['10', '20', '30', '40']\n",
        "new_list =[]\n",
        "for item in my_list:\n",
        "    new_list.append(int(item))\n",
        "\n",
        "print('old list', my_list)\n",
        "print('new list', new_list)"
      ],
      "metadata": {
        "colab": {
          "base_uri": "https://localhost:8080/"
        },
        "id": "ciD6UgAyoh-4",
        "outputId": "c70563ad-78d0-4def-a1fe-a075d97725e6"
      },
      "execution_count": 43,
      "outputs": [
        {
          "output_type": "stream",
          "name": "stdout",
          "text": [
            "old list ['10', '20', '30', '40']\n",
            "new list [10, 20, 30, 40]\n"
          ]
        }
      ]
    },
    {
      "cell_type": "code",
      "source": [
        "#11 Write a program that checks if a number is positive, negative, or zero.\n",
        "\n",
        "number = int(input('Enter a number: '))\n",
        "if number > 0:\n",
        "    print('Number is positive')\n",
        "elif number < 0:\n",
        "    print('Number is negative')\n",
        "else:\n",
        "    print('Number is zero')"
      ],
      "metadata": {
        "colab": {
          "base_uri": "https://localhost:8080/"
        },
        "id": "Mse8XAq7ppOS",
        "outputId": "02816255-ea07-4936-9a5c-74f027b05ff4"
      },
      "execution_count": 44,
      "outputs": [
        {
          "output_type": "stream",
          "name": "stdout",
          "text": [
            "Enter a number: -78\n",
            "Number is negative\n"
          ]
        }
      ]
    },
    {
      "cell_type": "code",
      "source": [
        "#12 Write a for loop to print numbers from 1 to 10\n",
        "\n",
        "for i in range(1,11):\n",
        "  print(i)"
      ],
      "metadata": {
        "colab": {
          "base_uri": "https://localhost:8080/"
        },
        "id": "bHMY4er8qmk9",
        "outputId": "25215d33-9ddd-4fbb-9014-048d8ab5ed89"
      },
      "execution_count": 45,
      "outputs": [
        {
          "output_type": "stream",
          "name": "stdout",
          "text": [
            "1\n",
            "2\n",
            "3\n",
            "4\n",
            "5\n",
            "6\n",
            "7\n",
            "8\n",
            "9\n",
            "10\n"
          ]
        }
      ]
    },
    {
      "cell_type": "code",
      "source": [
        "#13  Write a Python program to find the sum of all even numbers between 1 and 50\n",
        "sum = 0\n",
        "for i in range(2,50):   # between 1 and 50 => 2 to 49\n",
        "  if i%2 == 0:\n",
        "    sum += i\n",
        "print(sum)"
      ],
      "metadata": {
        "colab": {
          "base_uri": "https://localhost:8080/"
        },
        "id": "cmWmZ4ikqzYq",
        "outputId": "6a48fc0a-2ef6-4dec-b938-27201c8cafc5"
      },
      "execution_count": 46,
      "outputs": [
        {
          "output_type": "stream",
          "name": "stdout",
          "text": [
            "600\n"
          ]
        }
      ]
    },
    {
      "cell_type": "code",
      "source": [
        "#14  Write a program to reverse a string using a while loop.\n",
        "\n",
        "my_string = 'Data Science with Generative AI'\n",
        "i=-1\n",
        "len_my_string = -len(my_string)\n",
        "while i >= len_my_string:\n",
        "  print(my_string[i], end='')\n",
        "  i-=1\n"
      ],
      "metadata": {
        "colab": {
          "base_uri": "https://localhost:8080/"
        },
        "id": "va5TMYAMrJO2",
        "outputId": "d52d0ac6-788c-49a7-8d79-80881b18557e"
      },
      "execution_count": 47,
      "outputs": [
        {
          "output_type": "stream",
          "name": "stdout",
          "text": [
            "IA evitareneG htiw ecneicS ataD"
          ]
        }
      ]
    },
    {
      "cell_type": "code",
      "source": [
        "# 15 Write a Python program to calculate the factorial of a number provided by the user using a while loop.\n",
        "\n",
        "input_no = int(input('Enter a number greater than zero(0): '))\n",
        "if input_no <= 0:\n",
        "  print('Invalid input')\n",
        "else:\n",
        "  fact = 1\n",
        "  while input_no > 0:\n",
        "    fact *= input_no\n",
        "    input_no -= 1\n",
        "  print(fact)\n"
      ],
      "metadata": {
        "colab": {
          "base_uri": "https://localhost:8080/"
        },
        "id": "zc3P5ztXs7ND",
        "outputId": "75647072-db90-46cc-cb14-005b4e146e92"
      },
      "execution_count": 3,
      "outputs": [
        {
          "output_type": "stream",
          "name": "stdout",
          "text": [
            "Enter a number greater than zero(0): 5\n",
            "120\n"
          ]
        }
      ]
    },
    {
      "cell_type": "code",
      "source": [],
      "metadata": {
        "id": "mtPZqceHyW3t"
      },
      "execution_count": 48,
      "outputs": []
    }
  ]
}