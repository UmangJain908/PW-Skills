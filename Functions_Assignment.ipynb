{
  "nbformat": 4,
  "nbformat_minor": 0,
  "metadata": {
    "colab": {
      "provenance": []
    },
    "kernelspec": {
      "name": "python3",
      "display_name": "Python 3"
    },
    "language_info": {
      "name": "python"
    }
  },
  "cells": [
    {
      "cell_type": "markdown",
      "source": [
        "# Theory Questions"
      ],
      "metadata": {
        "id": "MuzDBuw-lAfM"
      }
    },
    {
      "cell_type": "markdown",
      "source": [
        "1. What is the difference between a function and a method in Python?\n",
        "   - Function: A block of reusable code defined using def or lambda.\n",
        "   - Ex =>\n",
        "     ```\n",
        "      def add(a, b):\n",
        "        return a + b\n",
        "     ```\n",
        "\n",
        "   - Method: A function that belongs to an object/class and is called using\n",
        "     that object.\n",
        "   - Ex=>\n",
        "      ```\n",
        "      class multiplication:\n",
        "          def multiply(self, x, y):\n",
        "            return x * y\n",
        "      ```\n",
        "\n",
        "2. Explain the concept of function arguments and parameters in Python?\n",
        "    - Parameters: Variables defined inside the function header.\n",
        "    - Arguments: Values passed while calling the function.\n",
        "    - Ex=>\n",
        "      ```\n",
        "      def greet(name):   \n",
        "          print(\"Hello\", name)\n",
        "      greet(\"Umang\")     \n",
        "      ```\n",
        "     - name is parameter and Umang is argument.\n",
        "\n",
        "3. What are the different ways to define and call a function in Python?\n",
        "   - Normal function: defined using def keyword\n",
        "      ```\n",
        "      def add(a, b):\n",
        "        return a + b\n",
        "      ```\n",
        "   - Default arguments:\n",
        "      ```\n",
        "      def add(a=10, b=5):\n",
        "        return a + b\n",
        "      ```\n",
        "   - Variable arguments:\n",
        "      ```\n",
        "      def add(*nums):\n",
        "        return sum(nums)\n",
        "      ```\n",
        "   - Lambda function: using lambda keyword\n",
        "      ```  \n",
        "      double = lambda x: x*2\n",
        "      print(double(4))\n",
        "      ```\n",
        "\n",
        "4. What is the purpose of the 'return' statement in a Python function?\n",
        "    - It sends the result of a function back to the caller.\n",
        "    - Without return, a function gives None by default.\n",
        "      ```\n",
        "      def add(a, b):\n",
        "        return a + b\n",
        "      print(add(2, 3))   # 5\n",
        "      ```\n",
        "\n",
        "5. What are iterators in Python and how do they differ from iterables?\n",
        "   - Iterable: An object that can return an iterator (like list, tuple,  \n",
        "     string).\n",
        "   - Iterator: An object with __iter__() and __next__() methods used to fetch\n",
        "     elements one by one.\n",
        "   - EX =>\n",
        "     ```\n",
        "      nums = [1, 2, 3]        # iterable\n",
        "      it = iter(nums)         # iterator\n",
        "      print(next(it))         # 1\n",
        "     ```\n",
        "\n",
        "6. Explain the concept of generators in Python and how they are defined.\n",
        "   - Generators are special functions that use yield instead of return.\n",
        "   - They return an iterator, generating values one at a time.\n",
        "   - Ex=>\n",
        "     ```\n",
        "     def gen_nums():\n",
        "       for i in range(3):\n",
        "         yield i\n",
        "\n",
        "     for n in gen_nums():\n",
        "       print(n)\n",
        "     ```\n",
        "\n",
        "7. What are the advantages of using generators over regular functions?\n",
        "    - Generate values one at a time instead of storing them all.\n",
        "    - Values are produced only when needed.\n",
        "    - Ex=>\n",
        "      ```\n",
        "      gen = (x*x for x in range(1000))\n",
        "      print(next(gen))\n",
        "      ```\n",
        "\n",
        "8. What is a lambda function in Python and when is it typically used?\n",
        "   - A small anonymous function defined using lambda.\n",
        "   - Typically used for short operations inside functions like map(), filter().\n",
        "   - Ex=>\n",
        "     ```\n",
        "     square = lambda x: x**2\n",
        "     print(square(6))\n",
        "     ```\n",
        "\n",
        "9. Explain the purpose and usage of the 'map()' function in Python.\n",
        "   - Applies a function to each element of an iterable.\n",
        "   - returns a map object (iterator).\n",
        "   - Ex=>\n",
        "     ```\n",
        "     nums = [1, 2, 3]\n",
        "     squares = map(lambda x: x**2, nums)\n",
        "     print(list(squares))\n",
        "     ```\n",
        "\n",
        "10. What is the difference between 'map()', 'reduce()', and 'filter()'\n",
        "     functions in Python?\n",
        "    - map() => Applies a function to every element.\n",
        "\n",
        "    - filter() => Keeps only elements that satisfy a condition.\n",
        "    - reduce() => Applies a function cumulatively to reduce iterable to a\n",
        "      single value.\n",
        "    - Ex=>\n",
        "      ```\n",
        "      from functools import reduce\n",
        "      nums = [1, 2, 3, 4]\n",
        "      print(list(map(lambda x: x*2, nums)))\n",
        "      print(list(filter(lambda x: x%2==0, nums)))\n",
        "      print(reduce(lambda a, b: a+b, nums))\n",
        "      ```\n",
        "\n",
        "11. Using pen & Paper write the internal mechanism for sum operation using\n",
        "     reduce function on this given list: [47,11,42,13].\n",
        "     ```\n",
        "     from functools import reduce\n",
        "     nums = [47, 11, 42, 13]\n",
        "     result = reduce(lambda a, b: a + b, nums)\n",
        "     print(\"Final Sum:\", result) # prints 113\n",
        "    ```\n",
        "\n",
        "\n"
      ],
      "metadata": {
        "id": "UBI0B9XqlVzl"
      }
    },
    {
      "cell_type": "markdown",
      "source": [
        "![Reduce Mechanism](https://raw.githubusercontent.com/UmangJain908/PW-Skills/316a1f19ecef3772b902edb450cef27173d93921/images/Reduce_mechanism_for_sum.jpg)"
      ],
      "metadata": {
        "id": "qLmWP_BG6pSZ"
      }
    },
    {
      "cell_type": "markdown",
      "source": [
        "# Practical Questions"
      ],
      "metadata": {
        "id": "eV56nS4N90Lh"
      }
    },
    {
      "cell_type": "code",
      "source": [
        "#1. Write a Python function that takes a list of numbers as input and returns the sum of all even numbers in the list.\n",
        "\n",
        "numbers = [1,2,3,4,5,6,7,8,9]\n",
        "\n",
        "def sum_even(num):\n",
        "  sum = 0\n",
        "  for i in num:\n",
        "    if i%2 == 0:\n",
        "      sum = sum + i\n",
        "  return sum\n",
        "\n",
        "print(sum_even(numbers))"
      ],
      "metadata": {
        "colab": {
          "base_uri": "https://localhost:8080/"
        },
        "id": "J2Jpo8xw1uqz",
        "outputId": "5044c0da-0b16-4310-d40d-872aff6ed597"
      },
      "execution_count": 7,
      "outputs": [
        {
          "output_type": "stream",
          "name": "stdout",
          "text": [
            "20\n"
          ]
        }
      ]
    },
    {
      "cell_type": "code",
      "source": [
        "#2. Create a Python function that accepts a string and returns the reverse of that string.\n",
        "\n",
        "def reverse_string(string):\n",
        "  return string[::-1]\n",
        "\n",
        "print(reverse_string(\"Python Programming\"))"
      ],
      "metadata": {
        "colab": {
          "base_uri": "https://localhost:8080/"
        },
        "id": "ANBqJtB0-4Rm",
        "outputId": "31e16809-275d-416c-a84f-706f29335323"
      },
      "execution_count": 9,
      "outputs": [
        {
          "output_type": "stream",
          "name": "stdout",
          "text": [
            "gnimmargorP nohtyP\n"
          ]
        }
      ]
    },
    {
      "cell_type": "code",
      "source": [
        "#3 Implement a Python function that takes a list of integers and returns a new list containing the squares of each number.\n",
        "\n",
        "def square_list(nums):\n",
        "  return [i**2 for i in nums]\n",
        "\n",
        "print(square_list([1,2,3,4,5]))"
      ],
      "metadata": {
        "colab": {
          "base_uri": "https://localhost:8080/"
        },
        "id": "kdFjXw0jBzkZ",
        "outputId": "0f3bb37a-53ce-42aa-d204-db2d606b2a46"
      },
      "execution_count": 10,
      "outputs": [
        {
          "output_type": "stream",
          "name": "stdout",
          "text": [
            "[1, 4, 9, 16, 25]\n"
          ]
        }
      ]
    },
    {
      "cell_type": "code",
      "source": [
        "#4 Write a Python function that checks if a given number is prime or not from 1 to 200.\n",
        "\n",
        "def is_prime():\n",
        "  prime_list = []\n",
        "  dict ={}\n",
        "\n",
        "  for i in range(2,201):\n",
        "    dict[i] = 0\n",
        "    for j in range(1,i+1):\n",
        "      if i%j==0:\n",
        "        dict[i] += 1\n",
        "\n",
        "  for key, value in dict.items():\n",
        "    if value == 2:\n",
        "      prime_list.append(key)\n",
        "\n",
        "  return prime_list\n",
        "\n",
        "print(is_prime())\n",
        "\n"
      ],
      "metadata": {
        "colab": {
          "base_uri": "https://localhost:8080/"
        },
        "id": "3nSDRCEPCIjo",
        "outputId": "ccecc934-b2be-4c03-bcf6-5ba5baf06d88"
      },
      "execution_count": 20,
      "outputs": [
        {
          "output_type": "stream",
          "name": "stdout",
          "text": [
            "[2, 3, 5, 7, 11, 13, 17, 19, 23, 29, 31, 37, 41, 43, 47, 53, 59, 61, 67, 71, 73, 79, 83, 89, 97, 101, 103, 107, 109, 113, 127, 131, 137, 139, 149, 151, 157, 163, 167, 173, 179, 181, 191, 193, 197, 199]\n"
          ]
        }
      ]
    },
    {
      "cell_type": "code",
      "source": [
        "#5 Create an iterator class in Python that generates the Fibonacci sequence up to a specified number of terms.\n",
        "\n",
        "def fib():\n",
        "  a, b = 0, 1\n",
        "  while True:\n",
        "    yield a\n",
        "    a, b = b, a+b\n",
        "\n",
        "fib_gen = fib()\n",
        "for i in range(10):\n",
        "  print(next(fib_gen))\n"
      ],
      "metadata": {
        "colab": {
          "base_uri": "https://localhost:8080/"
        },
        "id": "pjqWxp_qDqvk",
        "outputId": "37e71fcc-40bd-4a59-c7a1-7faeb22ca29f"
      },
      "execution_count": 22,
      "outputs": [
        {
          "output_type": "stream",
          "name": "stdout",
          "text": [
            "0\n",
            "1\n",
            "1\n",
            "2\n",
            "3\n",
            "5\n",
            "8\n",
            "13\n",
            "21\n",
            "34\n"
          ]
        }
      ]
    },
    {
      "cell_type": "code",
      "source": [
        "#6 Write a generator function in Python that yields the powers of 2 up to a given exponent.\n",
        "\n",
        "def gen_power(num,exp):\n",
        "  for i in range(exp+1):\n",
        "   yield num**i\n",
        "\n",
        "it = gen_power(2,5)\n",
        "list(it)"
      ],
      "metadata": {
        "colab": {
          "base_uri": "https://localhost:8080/"
        },
        "id": "Mlk_bS4XE757",
        "outputId": "f681a35f-c999-447c-f5da-8b88132b718a"
      },
      "execution_count": 48,
      "outputs": [
        {
          "output_type": "execute_result",
          "data": {
            "text/plain": [
              "[1, 2, 4, 8, 16, 32]"
            ]
          },
          "metadata": {},
          "execution_count": 48
        }
      ]
    },
    {
      "cell_type": "code",
      "source": [
        "#7 Implement a generator function that reads a file line by line and yields each line as a string.\n",
        "\n",
        "file = '/content/drive/MyDrive/PW_Skills_assignments/Files/sample.txt'\n",
        "\n",
        "def read_file(file):\n",
        "  with open(file, 'r') as file:\n",
        "    for line in file:\n",
        "      yield line\n",
        "\n",
        "for line in read_file(file):\n",
        "  print(line)"
      ],
      "metadata": {
        "colab": {
          "base_uri": "https://localhost:8080/"
        },
        "id": "jNwDeumrGGPl",
        "outputId": "1ca7b492-55a7-4a5d-ca1c-c52d4bc14d02"
      },
      "execution_count": 58,
      "outputs": [
        {
          "output_type": "stream",
          "name": "stdout",
          "text": [
            "Welcome to the Book Shop.\n",
            "\n",
            "We have a variety of books.\n",
            "\n",
            "Fiction, Non-Fiction, and Educational.\n",
            "\n",
            "Today's special discount: 10% off.\n",
            "\n",
            "Thank you for visiting!\n",
            "\n"
          ]
        }
      ]
    },
    {
      "cell_type": "code",
      "source": [
        "#8 Use a lambda function in Python to sort a list of tuples based on the second element of each tuple.\n",
        "list1 = [('orange', 100), ('apple', 200), ('dragon fruit', 300), ('banana', 400)]\n",
        "m = lambda x : x[1]\n",
        "sorted_list = sorted(list1, key=m)\n",
        "print(sorted_list)"
      ],
      "metadata": {
        "colab": {
          "base_uri": "https://localhost:8080/"
        },
        "id": "HlV6F9vgQD4t",
        "outputId": "8fab6f63-ded1-4b8b-83c1-e307c3385f21"
      },
      "execution_count": 59,
      "outputs": [
        {
          "output_type": "stream",
          "name": "stdout",
          "text": [
            "[('orange', 100), ('apple', 200), ('dragon fruit', 300), ('banana', 400)]\n"
          ]
        }
      ]
    },
    {
      "cell_type": "code",
      "source": [
        "#9  Write a Python program that uses 'map()' to convert a list of temperatures from Celsius to Fahrenheit.\n",
        "\n",
        "list1=[20,25,27,30,33,40,45]\n",
        "list(map(lambda x: (x*9/5)+32, list1))"
      ],
      "metadata": {
        "colab": {
          "base_uri": "https://localhost:8080/"
        },
        "id": "2p3Op_dvTNE1",
        "outputId": "3e6442ab-15b1-435f-a890-d425bda732df"
      },
      "execution_count": 61,
      "outputs": [
        {
          "output_type": "execute_result",
          "data": {
            "text/plain": [
              "[68.0, 77.0, 80.6, 86.0, 91.4, 104.0, 113.0]"
            ]
          },
          "metadata": {},
          "execution_count": 61
        }
      ]
    },
    {
      "cell_type": "code",
      "source": [
        "#10 Create a Python program that uses 'filter()' to remove all the vowels from a given string.\n",
        "\n",
        "my_string = 'qwertyuio'\n",
        "vowels = ['a','e','i','o','u']\n",
        "list(filter(lambda x: x not in vowels, my_string))"
      ],
      "metadata": {
        "colab": {
          "base_uri": "https://localhost:8080/"
        },
        "id": "1AyRQsxLT-mZ",
        "outputId": "92d91721-a816-4099-8b1d-ff1b0b4636f6"
      },
      "execution_count": 63,
      "outputs": [
        {
          "output_type": "execute_result",
          "data": {
            "text/plain": [
              "['q', 'w', 'r', 't', 'y']"
            ]
          },
          "metadata": {},
          "execution_count": 63
        }
      ]
    },
    {
      "cell_type": "code",
      "source": [
        "#11 Imagine an accounting routine used in a book shop. It works on a list with sublists, which look like this:\n",
        "\n",
        "# Order Number\t  Book Title and Author\t               Quantity\t        Price per Item\n",
        "# 34587\t          Learning Python, Mark Lutz\t            4\t               40.95\n",
        "# 98762\t          Programming Python, Mark Lutz\t          5\t               56.80\n",
        "# 77226\t          Head First Python, Paul Barry\t          3\t               32.95\n",
        "# 88112\t          Einführung in Python3, Bernd Klein\t    3\t               24.99\n",
        "\n",
        "# Write a Python program, which returns a list with 2-tuples. Each tuple consists of the order number and the\n",
        "# product of the price per item and the quantity. The product should be increased by 10 €, if the value of the\n",
        "# order is smaller than 100.00 €.\n",
        "\n",
        "# Write a Python program using lambda and map.\n",
        "\n",
        "list1 = [[34587, 'Learning Python, Mark Lutz', 4, 40.95],[98762,\t'Programming Python, Mark Lutz',\t5,\t56.80],\n",
        "         [77226,\t'Head First Python, Paul Barry',\t3,\t32.95], [88112,\t'Einführung in Python3, Bernd Klein',\t 3,\t24.99]]\n",
        "\n",
        "list(map(lambda x: (x[0], x[2]*x[3] if x[2]*x[3] >=100 else x[2]*x[3] + 10), list1))"
      ],
      "metadata": {
        "colab": {
          "base_uri": "https://localhost:8080/"
        },
        "id": "89eIdZ7OUsQm",
        "outputId": "ddd49f0b-c04c-444c-ee91-583a88a7445f"
      },
      "execution_count": 78,
      "outputs": [
        {
          "output_type": "execute_result",
          "data": {
            "text/plain": [
              "[(34587, 163.8), (98762, 284.0), (77226, 108.85000000000001), (88112, 84.97)]"
            ]
          },
          "metadata": {},
          "execution_count": 78
        }
      ]
    },
    {
      "cell_type": "code",
      "source": [],
      "metadata": {
        "id": "XDtsvKotVx13"
      },
      "execution_count": null,
      "outputs": []
    }
  ]
}
